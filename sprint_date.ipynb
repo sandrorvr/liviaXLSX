{
  "nbformat": 4,
  "nbformat_minor": 0,
  "metadata": {
    "colab": {
      "name": "sprint_date.ipynb",
      "provenance": [],
      "collapsed_sections": [],
      "authorship_tag": "ABX9TyMaM2X/KSRnJgiFVlJ1KTRY"
    },
    "kernelspec": {
      "name": "python3",
      "display_name": "Python 3"
    },
    "language_info": {
      "name": "python"
    }
  },
  "cells": [
    {
      "cell_type": "code",
      "metadata": {
        "id": "XTN_tICH5CpF"
      },
      "source": [
        "import numpy as np\n",
        "from datetime import datetime, timedelta\n",
        "import pandas as pd"
      ],
      "execution_count": 263,
      "outputs": []
    },
    {
      "cell_type": "code",
      "metadata": {
        "id": "_U1J2JAj1m9R"
      },
      "source": [
        "data = pd.read_csv('tarefasDetalhe.csv')"
      ],
      "execution_count": 264,
      "outputs": []
    },
    {
      "cell_type": "code",
      "metadata": {
        "id": "P_J8YZAF1m6_"
      },
      "source": [
        "data['Start'] = pd.to_datetime(data['Start'], format='%Y-%m-%d %H:%M:%S')\n",
        "data['Finish'] = pd.to_datetime(data['Finish'], format='%Y-%m-%d %H:%M:%S')"
      ],
      "execution_count": 265,
      "outputs": []
    },
    {
      "cell_type": "code",
      "metadata": {
        "id": "DiTDqg7l4bSg"
      },
      "source": [
        "def sprint_date(value,sprint=1,init_date='2021/06/07', sprint_size=14):\n",
        "    init_date = datetime.strptime(init_date, '%Y/%m/%d')\n",
        "    value = datetime.strptime(value, '%Y-%m-%d') if type(value) != pd.Timestamp and pd.notnull(value) else value\n",
        "\n",
        "    while init_date <= value:\n",
        "        init_date = init_date + timedelta(sprint_size)\n",
        "        sprint = sprint+1\n",
        "\n",
        "    return sprint-1\n",
        "\n",
        "data['Sprint_calc'] = data['Finish'].apply(sprint_date)"
      ],
      "execution_count": 266,
      "outputs": []
    },
    {
      "cell_type": "code",
      "metadata": {
        "id": "g-GWEv311m4X"
      },
      "source": [
        "def correct_duration(x):\n",
        "  x = str(x)\n",
        "  size_x = len(x)\n",
        "  if size_x >6 and size_x<8:\n",
        "    return x[:2]\n",
        "  elif size_x >5 and size_x < 7:\n",
        "    return x[0]\n",
        "\n",
        "data['Duration'] = data['Duration'].apply(correct_duration)"
      ],
      "execution_count": 267,
      "outputs": []
    },
    {
      "cell_type": "code",
      "metadata": {
        "id": "jAtvdqOg1m0I"
      },
      "source": [
        "data['target'] = -99\n",
        "\n",
        "for linha in range(len(data)):\n",
        "    dias_da_semana = 7\n",
        "    data_hoje = datetime.now()\n",
        "    if data.loc[linha, 'Finish']<data_hoje:\n",
        "        data.loc[linha, 'target'] = 1\n",
        "    else:\n",
        "        data.loc[linha, 'target'] = (data_hoje - data.loc[linha, 'Start'])/dias_da_semana\n"
      ],
      "execution_count": 268,
      "outputs": []
    },
    {
      "cell_type": "code",
      "metadata": {
        "id": "J2scfkim4Vlh"
      },
      "source": [
        "data['target_semanal'] = data['Duration'].apply(lambda x: int(x)/5 if x != None else x)"
      ],
      "execution_count": 269,
      "outputs": []
    },
    {
      "cell_type": "code",
      "metadata": {
        "id": "v5iTkoqG4WGn"
      },
      "source": [
        "tarefas_concluidas = data[(data['target']==1)&(data['% complete']==1)]"
      ],
      "execution_count": 270,
      "outputs": []
    },
    {
      "cell_type": "code",
      "metadata": {
        "id": "GZTJMQUS4WEB"
      },
      "source": [
        "tarefas_atrasadas = data[(data['target']==1)&(data['% complete']!=1)]"
      ],
      "execution_count": 271,
      "outputs": []
    },
    {
      "cell_type": "code",
      "metadata": {
        "id": "rHUrfxPj4WAw"
      },
      "source": [
        "tarefas_adiantadas = data[(data['target']!=1)&(data['% complete']!=0)]"
      ],
      "execution_count": 272,
      "outputs": []
    },
    {
      "cell_type": "code",
      "metadata": {
        "id": "Rwr3iAqG4bYn"
      },
      "source": [
        "tarefas_balaceadas = int(tarefas_adiantadas_percentual + tarefas_atrasadas_percentual)"
      ],
      "execution_count": 273,
      "outputs": []
    },
    {
      "cell_type": "code",
      "metadata": {
        "colab": {
          "base_uri": "https://localhost:8080/"
        },
        "id": "gF9uCreP4bWY",
        "outputId": "2827f5af-3a90-4751-a196-6d71b81b1069"
      },
      "source": [
        "numero_tarefas_concluidas + tarefas_balaceadas"
      ],
      "execution_count": 274,
      "outputs": [
        {
          "output_type": "execute_result",
          "data": {
            "text/plain": [
              "9"
            ]
          },
          "metadata": {},
          "execution_count": 274
        }
      ]
    },
    {
      "cell_type": "markdown",
      "metadata": {
        "id": "fOutMUtF93wY"
      },
      "source": [
        "**New Table**"
      ]
    },
    {
      "cell_type": "code",
      "metadata": {
        "id": "elLILYiC1mvZ"
      },
      "source": [
        "sprints = data['Sprint_calc'].value_counts().to_frame()\n",
        "sprints.columns = ['count_task']"
      ],
      "execution_count": 275,
      "outputs": []
    },
    {
      "cell_type": "code",
      "metadata": {
        "id": "5wrAUeUk8uzo"
      },
      "source": [
        "count_task_concluded = tarefas_concluidas.groupby(by='Sprint_calc').sum()['% complete'].to_frame()\n",
        "count_task_concluded.columns = ['task_concluded']"
      ],
      "execution_count": 276,
      "outputs": []
    },
    {
      "cell_type": "code",
      "metadata": {
        "id": "JMYEpf1m-kBe"
      },
      "source": [
        "count_task_late = tarefas_atrasadas.groupby(by='Sprint_calc').sum()['% complete'].to_frame()\n",
        "count_task_late.columns = ['task_late']"
      ],
      "execution_count": 277,
      "outputs": []
    },
    {
      "cell_type": "code",
      "metadata": {
        "id": "N_URt1gw_zDg"
      },
      "source": [
        "count_task_advanced = tarefas_adiantadas.groupby(by='Sprint_calc').sum()['% complete'].to_frame()\n",
        "count_task_advanced.columns = ['task_advanced']"
      ],
      "execution_count": 278,
      "outputs": []
    },
    {
      "cell_type": "code",
      "metadata": {
        "id": "YdRj8Z2Y1msn"
      },
      "source": [
        "table_summary = sprints.join(column_task_concluded)\\\n",
        ".join(count_task_late)\\\n",
        ".join(count_task_advanced)\\\n",
        ".sort_index()"
      ],
      "execution_count": 279,
      "outputs": []
    },
    {
      "cell_type": "code",
      "metadata": {
        "id": "XmP9zR9u5BWe"
      },
      "source": [
        "table_summary.fillna(0, inplace=True)\n",
        "table_summary.drop(0, inplace=True)\n",
        "table_summary.index.name = 'sprint'"
      ],
      "execution_count": 280,
      "outputs": []
    },
    {
      "cell_type": "code",
      "metadata": {
        "id": "DBsRqrmWKty7"
      },
      "source": [
        "for i in table_summary.index:\n",
        "  if table_summary.loc[i,'task_late'] != 0:\n",
        "    table_summary.loc[i,'diference'] = table_summary.loc[i,'count_task'] - (table_summary.loc[i,'task_concluded'] + table_summary.loc[i,'task_advanced'] + (1 - table_summary.loc[i,'task_late']))\n",
        "    #table_summary.loc[i,'yield'] = table_summary.loc[i,'task_concluded'] + table_summary.loc[i,'task_advanced'] + (1 - table_summary.loc[i,'task_late'])\n",
        "\n",
        "  else:\n",
        "    table_summary.loc[i,'diference'] = table_summary.loc[i,'count_task'] - (table_summary.loc[i,'task_concluded'] + table_summary.loc[i,'task_advanced'])\n",
        "    #table_summary.loc[i,'yield'] = table_summary.loc[i,'task_concluded'] + table_summary.loc[i,'task_advanced']\n"
      ],
      "execution_count": 281,
      "outputs": []
    },
    {
      "cell_type": "code",
      "metadata": {
        "colab": {
          "base_uri": "https://localhost:8080/"
        },
        "id": "weEdn1tX5BTg",
        "outputId": "ef31c671-2853-4275-d48e-262f1a6c38db"
      },
      "source": [
        "sum_task_concluded = table_summary['task_concluded'].sum()\n",
        "sum_task_advanced = table_summary['task_advanced'].sum()\n",
        "sum_task_late = table_summary['task_late'].sum()\n",
        "\n",
        "count_task_late = len(table_summary[table_summary['task_late']!=0])\n",
        "dif_task_late = count_task_late - sum_task_late\n",
        "\n",
        "Task_balance = int( sum_task_concluded + sum_task_advanced + dif_task_late )\n",
        "\n",
        "print(f\"Temos {Task_balance} tarefas concluídas\")"
      ],
      "execution_count": 282,
      "outputs": [
        {
          "output_type": "stream",
          "text": [
            "Temos 9 tarefas concluídas\n"
          ],
          "name": "stdout"
        }
      ]
    },
    {
      "cell_type": "code",
      "metadata": {
        "id": "zlBiFh8T5BP6"
      },
      "source": [
        "table_summary['debtor'] = table_summary['diference'].cumsum()"
      ],
      "execution_count": 283,
      "outputs": []
    },
    {
      "cell_type": "code",
      "metadata": {
        "colab": {
          "base_uri": "https://localhost:8080/",
          "height": 452
        },
        "id": "u7dONWF_5BLQ",
        "outputId": "c2692b61-17e8-4527-99c8-7a797a55fe56"
      },
      "source": [
        "table_summary"
      ],
      "execution_count": 284,
      "outputs": [
        {
          "output_type": "execute_result",
          "data": {
            "text/html": [
              "<div>\n",
              "<style scoped>\n",
              "    .dataframe tbody tr th:only-of-type {\n",
              "        vertical-align: middle;\n",
              "    }\n",
              "\n",
              "    .dataframe tbody tr th {\n",
              "        vertical-align: top;\n",
              "    }\n",
              "\n",
              "    .dataframe thead th {\n",
              "        text-align: right;\n",
              "    }\n",
              "</style>\n",
              "<table border=\"1\" class=\"dataframe\">\n",
              "  <thead>\n",
              "    <tr style=\"text-align: right;\">\n",
              "      <th></th>\n",
              "      <th>count_task</th>\n",
              "      <th>task_concluded</th>\n",
              "      <th>task_late</th>\n",
              "      <th>task_advanced</th>\n",
              "      <th>diference</th>\n",
              "      <th>yield</th>\n",
              "      <th>debtor</th>\n",
              "    </tr>\n",
              "    <tr>\n",
              "      <th>sprint</th>\n",
              "      <th></th>\n",
              "      <th></th>\n",
              "      <th></th>\n",
              "      <th></th>\n",
              "      <th></th>\n",
              "      <th></th>\n",
              "      <th></th>\n",
              "    </tr>\n",
              "  </thead>\n",
              "  <tbody>\n",
              "    <tr>\n",
              "      <th>1</th>\n",
              "      <td>1</td>\n",
              "      <td>1.0</td>\n",
              "      <td>0.00</td>\n",
              "      <td>0.0</td>\n",
              "      <td>0.00</td>\n",
              "      <td>1.00</td>\n",
              "      <td>0.00</td>\n",
              "    </tr>\n",
              "    <tr>\n",
              "      <th>3</th>\n",
              "      <td>3</td>\n",
              "      <td>3.0</td>\n",
              "      <td>0.00</td>\n",
              "      <td>0.0</td>\n",
              "      <td>0.00</td>\n",
              "      <td>3.00</td>\n",
              "      <td>0.00</td>\n",
              "    </tr>\n",
              "    <tr>\n",
              "      <th>4</th>\n",
              "      <td>1</td>\n",
              "      <td>1.0</td>\n",
              "      <td>0.00</td>\n",
              "      <td>0.0</td>\n",
              "      <td>0.00</td>\n",
              "      <td>1.00</td>\n",
              "      <td>0.00</td>\n",
              "    </tr>\n",
              "    <tr>\n",
              "      <th>5</th>\n",
              "      <td>3</td>\n",
              "      <td>0.0</td>\n",
              "      <td>0.65</td>\n",
              "      <td>0.0</td>\n",
              "      <td>2.65</td>\n",
              "      <td>0.35</td>\n",
              "      <td>2.65</td>\n",
              "    </tr>\n",
              "    <tr>\n",
              "      <th>6</th>\n",
              "      <td>4</td>\n",
              "      <td>0.0</td>\n",
              "      <td>0.00</td>\n",
              "      <td>2.9</td>\n",
              "      <td>1.10</td>\n",
              "      <td>2.90</td>\n",
              "      <td>3.75</td>\n",
              "    </tr>\n",
              "    <tr>\n",
              "      <th>8</th>\n",
              "      <td>6</td>\n",
              "      <td>0.0</td>\n",
              "      <td>0.00</td>\n",
              "      <td>0.8</td>\n",
              "      <td>5.20</td>\n",
              "      <td>0.80</td>\n",
              "      <td>8.95</td>\n",
              "    </tr>\n",
              "    <tr>\n",
              "      <th>9</th>\n",
              "      <td>1</td>\n",
              "      <td>0.0</td>\n",
              "      <td>0.00</td>\n",
              "      <td>0.0</td>\n",
              "      <td>1.00</td>\n",
              "      <td>0.00</td>\n",
              "      <td>9.95</td>\n",
              "    </tr>\n",
              "    <tr>\n",
              "      <th>10</th>\n",
              "      <td>4</td>\n",
              "      <td>0.0</td>\n",
              "      <td>0.00</td>\n",
              "      <td>0.0</td>\n",
              "      <td>4.00</td>\n",
              "      <td>0.00</td>\n",
              "      <td>13.95</td>\n",
              "    </tr>\n",
              "    <tr>\n",
              "      <th>11</th>\n",
              "      <td>4</td>\n",
              "      <td>0.0</td>\n",
              "      <td>0.00</td>\n",
              "      <td>0.0</td>\n",
              "      <td>4.00</td>\n",
              "      <td>0.00</td>\n",
              "      <td>17.95</td>\n",
              "    </tr>\n",
              "    <tr>\n",
              "      <th>12</th>\n",
              "      <td>2</td>\n",
              "      <td>0.0</td>\n",
              "      <td>0.00</td>\n",
              "      <td>0.0</td>\n",
              "      <td>2.00</td>\n",
              "      <td>0.00</td>\n",
              "      <td>19.95</td>\n",
              "    </tr>\n",
              "    <tr>\n",
              "      <th>13</th>\n",
              "      <td>1</td>\n",
              "      <td>0.0</td>\n",
              "      <td>0.00</td>\n",
              "      <td>0.0</td>\n",
              "      <td>1.00</td>\n",
              "      <td>0.00</td>\n",
              "      <td>20.95</td>\n",
              "    </tr>\n",
              "    <tr>\n",
              "      <th>14</th>\n",
              "      <td>1</td>\n",
              "      <td>0.0</td>\n",
              "      <td>0.00</td>\n",
              "      <td>0.0</td>\n",
              "      <td>1.00</td>\n",
              "      <td>0.00</td>\n",
              "      <td>21.95</td>\n",
              "    </tr>\n",
              "  </tbody>\n",
              "</table>\n",
              "</div>"
            ],
            "text/plain": [
              "        count_task  task_concluded  task_late  ...  diference  yield  debtor\n",
              "sprint                                         ...                          \n",
              "1                1             1.0       0.00  ...       0.00   1.00    0.00\n",
              "3                3             3.0       0.00  ...       0.00   3.00    0.00\n",
              "4                1             1.0       0.00  ...       0.00   1.00    0.00\n",
              "5                3             0.0       0.65  ...       2.65   0.35    2.65\n",
              "6                4             0.0       0.00  ...       1.10   2.90    3.75\n",
              "8                6             0.0       0.00  ...       5.20   0.80    8.95\n",
              "9                1             0.0       0.00  ...       1.00   0.00    9.95\n",
              "10               4             0.0       0.00  ...       4.00   0.00   13.95\n",
              "11               4             0.0       0.00  ...       4.00   0.00   17.95\n",
              "12               2             0.0       0.00  ...       2.00   0.00   19.95\n",
              "13               1             0.0       0.00  ...       1.00   0.00   20.95\n",
              "14               1             0.0       0.00  ...       1.00   0.00   21.95\n",
              "\n",
              "[12 rows x 7 columns]"
            ]
          },
          "metadata": {},
          "execution_count": 284
        }
      ]
    },
    {
      "cell_type": "markdown",
      "metadata": {
        "id": "WG0T9rqSQDyr"
      },
      "source": [
        "**Charts**"
      ]
    },
    {
      "cell_type": "code",
      "metadata": {
        "colab": {
          "base_uri": "https://localhost:8080/",
          "height": 296
        },
        "id": "YIkD07NEP-oe",
        "outputId": "9d13eef8-35aa-4de6-e771-1c3304f9b14d"
      },
      "source": [
        "table_summary[['debtor','yield', 'count_task']].plot(kind='line')"
      ],
      "execution_count": 288,
      "outputs": [
        {
          "output_type": "execute_result",
          "data": {
            "text/plain": [
              "<matplotlib.axes._subplots.AxesSubplot at 0x7fc17ab13710>"
            ]
          },
          "metadata": {},
          "execution_count": 288
        },
        {
          "output_type": "display_data",
          "data": {
            "image/png": "[encoded data removed]",
            "text/plain": [
              "<Figure size 432x288 with 1 Axes>"
            ]
          },
          "metadata": {
            "needs_background": "light"
          }
        }
      ]
    },
    {
      "cell_type": "code",
      "metadata": {
        "id": "jZsaLvcsP-rF"
      },
      "source": [
        ""
      ],
      "execution_count": 285,
      "outputs": []
    },
    {
      "cell_type": "code",
      "metadata": {
        "id": "i1Ef3OxvP-uI"
      },
      "source": [
        ""
      ],
      "execution_count": 285,
      "outputs": []
    },
    {
      "cell_type": "code",
      "metadata": {
        "id": "YRA-1e9n5Pr6",
        "colab": {
          "base_uri": "https://localhost:8080/",
          "height": 69
        },
        "outputId": "33cc5b52-4831-43e6-f9dd-0c42cb9c99c4"
      },
      "source": [
        "'''def sprint_date(value,sprint=1,init_date='2021/01/04', sprint_size=14):\n",
        "  init_date = datetime.strptime(init_date, '%Y/%m/%d')\n",
        "  value = datetime.strptime(value, '%Y/%m/%d') if type(value) != pd.Timestamp and pd.notnull(value) else value\n",
        "  while init_date <= value:\n",
        "    init_date = init_date + timedelta(sprint_size)\n",
        "    sprint = sprint+1\n",
        "  \n",
        "  return sprint-1\n",
        "'''"
      ],
      "execution_count": 286,
      "outputs": [
        {
          "output_type": "execute_result",
          "data": {
            "application/vnd.google.colaboratory.intrinsic+json": {
              "type": "string"
            },
            "text/plain": [
              "\"def sprint_date(value,sprint=1,init_date='2021/01/04', sprint_size=14):\\n  init_date = datetime.strptime(init_date, '%Y/%m/%d')\\n  value = datetime.strptime(value, '%Y/%m/%d') if type(value) != pd.Timestamp and pd.notnull(value) else value\\n  while init_date <= value:\\n    init_date = init_date + timedelta(sprint_size)\\n    sprint = sprint+1\\n  \\n  return sprint-1\\n\""
            ]
          },
          "metadata": {},
          "execution_count": 286
        }
      ]
    }
  ]
}